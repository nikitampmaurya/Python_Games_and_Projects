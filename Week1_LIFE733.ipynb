{
 "cells": [
  {
   "cell_type": "markdown",
   "id": "9fcd4f81-62b1-4dd7-b0a6-e65c62e66517",
   "metadata": {},
   "source": [
    "# Excercise 1"
   ]
  },
  {
   "cell_type": "markdown",
   "id": "13ae94bb-c71b-40a8-b64f-77f9cbc75be7",
   "metadata": {},
   "source": [
    "Create a program that asks the user to enter their name and their age. Print out a message addressed to them that tells them the year that they will turn 100 years old. Note: for this exercise, the expectation is that you explicitly write out the year (and therefore be out of date the next year). If you want to do this in a generic way, see exercise 39.\n",
    "\n",
    "Extras:\n",
    "\n",
    "Add on to the previous program by asking the user for another number and printing out that many copies of the previous message. (Hint: order of operations exists in Python)\n",
    "Print out that many copies of the previous message on separate lines. (Hint: the string \"\\n is the same as pressing the ENTER button)"
   ]
  },
  {
   "cell_type": "code",
   "execution_count": null,
   "id": "c7842692-692b-41e9-b1bc-6b5293ed1a4e",
   "metadata": {},
   "outputs": [],
   "source": [
    "while True:\n",
    "    n = input(\"Please enter your name: \")\n",
    "    if n.isalpha():\n",
    "        print(\"Hi \" + n + \", nice to meet you!\")\n",
    "        break\n",
    "    else:\n",
    "        print(\"Please enter your name using alphabets\")\n",
    "\n",
    "while True:\n",
    "    a = input(\"Please enter your age: \")\n",
    "    if a.isnumeric():\n",
    "        a = int(a)\n",
    "        if a > 0:\n",
    "            print(f'{n} is of age {a}')\n",
    "            break\n",
    "    else:\n",
    "        print(\"Please enter a non-zero and positive integer\")\n",
    "\n",
    "d = 100 - a\n",
    "new_age = a + d\n",
    "y = 2024 + d\n",
    "print(str(n) + \", you will turn of age 100 in year \" + str(y))\n",
    "\n",
    "while True:\n",
    "    N = input(\"Please enter a number: \")\n",
    "    if N.isnumeric() == True:\n",
    "        N = int(N)\n",
    "        if N > 0:\n",
    "            for i in range(0,N):\n",
    "                print(str(n) + \", you will turn of age 100 in year \" + str(y))\n",
    "            break\n",
    "        elif N <= 0:\n",
    "            print(\"Please enter a number greater than 0\")\n",
    "    else:\n",
    "        print(\"Please enter a non-zero and positive integer\")\n"
   ]
  },
  {
   "cell_type": "markdown",
   "id": "2856c30a-9bab-4383-bb01-f0ed71dbd73b",
   "metadata": {},
   "source": [
    "# Exercise 2"
   ]
  },
  {
   "cell_type": "code",
   "execution_count": null,
   "id": "273612d4-7f62-4f00-af5b-1ef1daf84e58",
   "metadata": {},
   "outputs": [],
   "source": [
    "The exercise comes first (with a few extras if you want the extra challenge or want to spend more time), followed by a discussion. Enjoy!\n",
    "\n",
    "Ask the user for a number. Depending on whether the number is even or odd, print out an appropriate message to the user. \n",
    "Hint: how does an even/odd number react differently when divided by 2?\n",
    "\n",
    "Extras:\n",
    "If the number is a multiple of 4, print out a different message.\n",
    "Ask the user for two numbers: one number to check (call it num) and one number to divide by (check). \n",
    "If check divides evenly into num, tell that to the user. If not, print a different appropriate message."
   ]
  },
  {
   "cell_type": "code",
   "execution_count": 11,
   "id": "4c1d77c6-5231-453d-9606-ed70e6301e9e",
   "metadata": {},
   "outputs": [
    {
     "name": "stdin",
     "output_type": "stream",
     "text": [
      "Please enter your first number:  0\n",
      "Please enter your second number:  0\n"
     ]
    },
    {
     "name": "stdout",
     "output_type": "stream",
     "text": [
      "The second number cannot be zero. Please try again.\n"
     ]
    },
    {
     "name": "stdin",
     "output_type": "stream",
     "text": [
      "Please enter your first number:  0\n",
      "Please enter your second number:  1\n"
     ]
    },
    {
     "name": "stdout",
     "output_type": "stream",
     "text": [
      "Thank you!\n",
      "Your first number: 0\n",
      "Your second number: 1\n",
      "Your first number is an even number!\n",
      "Your first number is divisible by 4\n",
      "Your first number 0 is divisible by your second number 1\n"
     ]
    }
   ],
   "source": [
    "while True:\n",
    "    n1 = input(\"Please enter your first number: \")\n",
    "    n2 = input(\"Please enter your second number: \")\n",
    "    if n1.isnumeric() and n2.isnumeric(): #to accept only positive integers\n",
    "        n1 = int(n1); n2 = int(n2)\n",
    "        if n2 != 0:\n",
    "            print(\"Thank you!\")\n",
    "            print(\"Your first number: \" + str(n1))\n",
    "            print(\"Your second number: \" + str(n2))\n",
    "            if n1 % 2 == 0:\n",
    "                print(\"Your first number is an even number!\")\n",
    "                if n1 % 4 == 0:\n",
    "                    print(\"Your first number is divisible by 4\")\n",
    "            else:\n",
    "                print(\"Your first number is an odd number!\")\n",
    "            if n1 % n2 == 0:\n",
    "                print(\"Your first number \" + str(n1) + \" is divisible by your second number \" + str(n2))\n",
    "            else:\n",
    "                print(\"Your first number \" + str(n1) + \" is not divisible by your second number \" + str(n2))\n",
    "            break\n",
    "        else:\n",
    "            print(\"The second number cannot be zero. Please try again.\")\n",
    "    else:\n",
    "        print(\"Please enter only positive numbers\")"
   ]
  },
  {
   "cell_type": "markdown",
   "id": "e7f1459d-3225-4c6e-8211-5e4bf3a9c1c1",
   "metadata": {},
   "source": [
    "# Exercise 3"
   ]
  },
  {
   "cell_type": "markdown",
   "id": "e1c27b7a-9e40-4806-8937-d60f2b3849f6",
   "metadata": {},
   "source": [
    "Take a list.And write a program that prints out all the elements of the list that are less than 5.\n",
    "\n",
    "Extras:\n",
    "\n",
    "Instead of printing the elements one by one, make a new list that has all the elements less than 5 from this list in it \n",
    "and print out this new list. Write this in one line of Python.\n",
    "Ask the user for a number and return a list that contains only elements from the original list a that are \n",
    "smaller than that number given by the user."
   ]
  },
  {
   "cell_type": "code",
   "execution_count": 121,
   "id": "c6624592-851e-418b-a2c5-a6d92da87ab4",
   "metadata": {},
   "outputs": [
    {
     "name": "stdin",
     "output_type": "stream",
     "text": [
      "Please enter a list of numbers separated by spaces:  12 45 78 234 09\n",
      "Please enter a number:  50\n"
     ]
    },
    {
     "name": "stdout",
     "output_type": "stream",
     "text": [
      "all entries are correct\n",
      "The number list:  [12, 45, 78, 234, 9]\n",
      "List of numbers less than 5:  []\n",
      "List of numbers equal to or more than 5:  [12, 45, 78, 234, 9]\n",
      "List of numbers less than your input number 50: [12, 45, 9]\n"
     ]
    }
   ],
   "source": [
    "while True:\n",
    "    nums = input(\"Please enter a list of numbers separated by spaces: \")\n",
    "    num1 = input(\"Please enter a number: \")\n",
    "    nums_list = nums.split()\n",
    "\n",
    "    for num in nums_list:\n",
    "        if not num.isnumeric():\n",
    "            print(f\"'{num}' is not a valid whole number.\")\n",
    "            if not num1.isnumeric():\n",
    "                print(\"please enter a valid number again\")\n",
    "            break \n",
    "    else:\n",
    "        print(\"all entries are correct\")\n",
    "        nums_list= [int(num) for num in nums_list]\n",
    "        num1 = int(num1)\n",
    "        print(\"The number list: \",nums_list)\n",
    "        #print(type(nums_list))\n",
    "        #print(type(nums_list[0]))\n",
    "\n",
    "        L1 = [i for i in nums_list if i < 5]\n",
    "        L2 = [i for i in nums_list if i >= 5]\n",
    "        L3 = [i for i in nums_list if i < num1]\n",
    "\n",
    "        print(\"List of numbers less than 5: \",L1)\n",
    "        print(\"List of numbers equal to or more than 5: \",L2)\n",
    "        print(f\"List of numbers less than your input number {num1}: {L3}\")\n",
    "        break"
   ]
  },
  {
   "cell_type": "markdown",
   "id": "7cac12a4-865d-47f9-bfb0-51782b043c31",
   "metadata": {},
   "source": [
    "# Exercise 4:"
   ]
  },
  {
   "cell_type": "code",
   "execution_count": null,
   "id": "b5ed8f32-e74d-46ae-b9df-f16467141f48",
   "metadata": {},
   "outputs": [],
   "source": [
    "Create a program that asks the user for a number and then prints out a list of all the divisors of that number. \n",
    "(If you don’t know what a divisor is, it is a number that divides evenly into another number. \n",
    "For example, 13 is a divisor of 26 because 26 / 13 has no remainder.)"
   ]
  },
  {
   "cell_type": "code",
   "execution_count": 153,
   "id": "f8b76180-87d3-44c6-bb9c-df5aca549c64",
   "metadata": {},
   "outputs": [
    {
     "name": "stdin",
     "output_type": "stream",
     "text": [
      "Please enter a number:  6\n"
     ]
    },
    {
     "name": "stdout",
     "output_type": "stream",
     "text": [
      "1 2 3 6 "
     ]
    }
   ],
   "source": [
    "while True:\n",
    "    num = input(\"Please enter a number: \")\n",
    "    if not num.isnumeric():\n",
    "        print(\"Please enter a positive integer\")\n",
    "    else:\n",
    "        num = int(num)\n",
    "        #print(num)\n",
    "        #print(type(num))\n",
    "        for i in range(1,num+1):\n",
    "            if num % i == 0:\n",
    "                print(i, end=\" \")\n",
    "            else:\n",
    "                pass\n",
    "        break"
   ]
  },
  {
   "cell_type": "code",
   "execution_count": null,
   "id": "a2052d9e-4900-4f23-9e8e-35cdfd69fa16",
   "metadata": {},
   "outputs": [],
   "source": []
  }
 ],
 "metadata": {
  "kernelspec": {
   "display_name": "Python 3 (ipykernel)",
   "language": "python",
   "name": "python3"
  },
  "language_info": {
   "codemirror_mode": {
    "name": "ipython",
    "version": 3
   },
   "file_extension": ".py",
   "mimetype": "text/x-python",
   "name": "python",
   "nbconvert_exporter": "python",
   "pygments_lexer": "ipython3",
   "version": "3.12.4"
  }
 },
 "nbformat": 4,
 "nbformat_minor": 5
}
